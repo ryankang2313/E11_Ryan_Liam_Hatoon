{
  "nbformat": 4,
  "nbformat_minor": 0,
  "metadata": {
    "colab": {
      "provenance": []
    },
    "kernelspec": {
      "name": "python3",
      "display_name": "Python 3"
    },
    "language_info": {
      "name": "python"
    }
  },
  "cells": [
    {
      "cell_type": "code",
      "execution_count": null,
      "metadata": {
        "id": "Rlh7s6s04kA1"
      },
      "outputs": [],
      "source": [
        "import pandas as pd\n",
        "import numpy as np\n",
        "import matplotlib.pyplot as plt\n",
        "from scipy.optimize import curve_fit\n",
        "\n",
        "\n",
        "F = pd.read_csv(\"ThoriumF_2025-04-30_15-53-53.csv\")\n",
        "F2 = pd.read_csv(\"ThoriumFF_2025-04-30_16-01-16_(1).csv\")\n",
        "F3 = pd.read_csv(\"ThoriumFFF_2025-04-30_16-04-48.csv\")\n",
        "Al = pd.read_csv(\"ThoriumAl_2025-04-30_15-12-39.csv\")\n",
        "Al2 = pd.read_csv(\"ThoriumAlAl_2025-04-30_15-15-50 (1).csv\")\n",
        "Al3 = pd.read_csv(\"ThoriumAlAlAl_2025-04-30_15-18-54.csv\")\n",
        "Cb = pd.read_csv(\"ThoriumCb_2025-04-30_15-30-50.csv\")\n",
        "Cb2 = pd.read_csv(\"ThoriumCbCb_2025-04-30_15-33-54.csv\")\n",
        "Cb3 = pd.read_csv(\"ThoriumCbCbCb_2025-04-30_15-41-25_(1).csv\")\n",
        "G = pd.read_csv(\"ThoriumG_2025-04-30_15-44-45.csv\")\n",
        "G2 = pd.read_csv(\"ThoriumGG_2025-04-30_15-47-36.csv\")\n",
        "G3 = pd.read_csv(\"ThoriumGGG_2025-04-30_15-50-17.csv\")\n",
        "Solo = pd.read_csv(\"ThoriumSolo_2025-04-30_15-09-25.csv\")\n",
        "T = pd.read_csv(\"ThoriumT_2025-04-30_15-22-01.csv\")\n",
        "TT = pd.read_csv(\"ThoriumTT_2025-04-30_15-24-41.csv\")\n",
        "TTT = pd.read_csv(\"ThoriumTTT_2025-04-30_15-27-27.csv\")\n",
        "Z = pd.read_csv(\"ThoriumZ_2025-04-30_16-08-54.csv\")\n",
        "ZZ = pd.read_csv(\"ThoriumZZ_2025-04-30_16-11-45.csv\")\n",
        "ZZZ = pd.read_csv(\"ThoriumZZZ_2025-04-30_16-14-22.csv\")\n",
        "Bgnd = pd.read_csv(\"background.csv\")"
      ]
    },
    {
      "cell_type": "code",
      "source": [
        "def net_counts(df):\n",
        "    return df['counts'] - Bgnd['counts'].mean()\n",
        "\n",
        "materials = {\n",
        "    \"Felt\": {\n",
        "        \"thickness\": [4, 8, 12],\n",
        "        \"counts\": [net_counts(F), net_counts(F2), net_counts(F3)]\n",
        "    },\n",
        "    \"Aluminum\": {\n",
        "        \"thickness\": [6, 12, 18],\n",
        "        \"counts\": [net_counts(Al), net_counts(Al2), net_counts(Al3)]\n",
        "    },\n",
        "    \"Cardboard\": {\n",
        "        \"thickness\": [3, 6, 9],\n",
        "        \"counts\": [net_counts(Cb), net_counts(Cb2), net_counts(Cb3)]\n",
        "    },\n",
        "    \"Glass\": {\n",
        "        \"thickness\": [4, 8, 12],\n",
        "        \"counts\": [net_counts(G), net_counts(G2), net_counts(G3)]\n",
        "    },\n",
        "    \"Tungsten\": {\n",
        "        \"thickness\": [10, 20, 30],  # Converted from cm to mm\n",
        "        \"counts\": [net_counts(T), net_counts(TT), net_counts(TTT)]\n",
        "    },\n",
        "    \"Zinc\": {\n",
        "        \"thickness\": [0.6858, 1.3716, 2.0574],\n",
        "        \"counts\": [net_counts(Z), net_counts(ZZ), net_counts(ZZZ)]\n",
        "    }\n",
        "}"
      ],
      "metadata": {
        "id": "6fsxDJxHLYqB"
      },
      "execution_count": null,
      "outputs": []
    },
    {
      "cell_type": "code",
      "source": [
        "import pandas as pd\n",
        "import numpy as np\n",
        "import matplotlib.pyplot as plt\n",
        "from scipy.optimize import curve_fit\n",
        "\n",
        "def calculate_uncertainty(counts):\n",
        "    return np.sqrt(counts)\n",
        "\n",
        "def exponential_decay(x, a, b):\n",
        "    return a * np.exp(-b * np.array(x))\n",
        "\n",
        "plt.figure(figsize=(10, 6))\n",
        "\n",
        "for material, data in materials.items():\n",
        "    thickness = data[\"thickness\"]\n",
        "    intensity = [counts.mean() for counts in data[\"counts\"]]\n",
        "    uncertainty = [calculate_uncertainty(counts).mean() for counts in data[\"counts\"]]\n",
        "\n",
        "    params, covariance = curve_fit(\n",
        "      exponential_decay,\n",
        "      thickness,\n",
        "      intensity,\n",
        "      bounds=([0, 0], [np.inf, np.inf])\n",
        "    )\n",
        "\n",
        "    a, b = params\n",
        "\n",
        "    plt.errorbar(thickness, intensity, yerr=uncertainty, fmt=\"o\", label=f\"{material} - Experimental Data\", capsize=5)\n",
        "    plt.plot(thickness, exponential_decay(thickness, a, b), \"-\", label=f\"{material} - Exponential Fit\")\n",
        "\n",
        "    print(f\"{material}: a = {a:.2f}, b = {b:.2f}\")\n",
        "\n",
        "plt.xlabel(\"Thickness (mm)\")\n",
        "plt.ylabel(\"Radiation Intensity (counts)\")\n",
        "plt.title(\"Radiation Shielding with Different Materials\")\n",
        "plt.legend()\n",
        "plt.grid(True)\n",
        "plt.show()"
      ],
      "metadata": {
        "colab": {
          "base_uri": "https://localhost:8080/",
          "height": 233
        },
        "id": "mtZ68hxsYzIk",
        "outputId": "fdb693e7-222d-4b2c-8ec1-04e1001c8cfa"
      },
      "execution_count": 1,
      "outputs": [
        {
          "output_type": "error",
          "ename": "NameError",
          "evalue": "name 'materials' is not defined",
          "traceback": [
            "\u001b[0;31m---------------------------------------------------------------------------\u001b[0m",
            "\u001b[0;31mNameError\u001b[0m                                 Traceback (most recent call last)",
            "\u001b[0;32m<ipython-input-1-cc1d54e4efa5>\u001b[0m in \u001b[0;36m<cell line: 0>\u001b[0;34m()\u001b[0m\n\u001b[1;32m     12\u001b[0m \u001b[0mplt\u001b[0m\u001b[0;34m.\u001b[0m\u001b[0mfigure\u001b[0m\u001b[0;34m(\u001b[0m\u001b[0mfigsize\u001b[0m\u001b[0;34m=\u001b[0m\u001b[0;34m(\u001b[0m\u001b[0;36m10\u001b[0m\u001b[0;34m,\u001b[0m \u001b[0;36m6\u001b[0m\u001b[0;34m)\u001b[0m\u001b[0;34m)\u001b[0m\u001b[0;34m\u001b[0m\u001b[0;34m\u001b[0m\u001b[0m\n\u001b[1;32m     13\u001b[0m \u001b[0;34m\u001b[0m\u001b[0m\n\u001b[0;32m---> 14\u001b[0;31m \u001b[0;32mfor\u001b[0m \u001b[0mmaterial\u001b[0m\u001b[0;34m,\u001b[0m \u001b[0mdata\u001b[0m \u001b[0;32min\u001b[0m \u001b[0mmaterials\u001b[0m\u001b[0;34m.\u001b[0m\u001b[0mitems\u001b[0m\u001b[0;34m(\u001b[0m\u001b[0;34m)\u001b[0m\u001b[0;34m:\u001b[0m\u001b[0;34m\u001b[0m\u001b[0;34m\u001b[0m\u001b[0m\n\u001b[0m\u001b[1;32m     15\u001b[0m     \u001b[0mthickness\u001b[0m \u001b[0;34m=\u001b[0m \u001b[0mdata\u001b[0m\u001b[0;34m[\u001b[0m\u001b[0;34m\"thickness\"\u001b[0m\u001b[0;34m]\u001b[0m\u001b[0;34m\u001b[0m\u001b[0;34m\u001b[0m\u001b[0m\n\u001b[1;32m     16\u001b[0m     \u001b[0mintensity\u001b[0m \u001b[0;34m=\u001b[0m \u001b[0;34m[\u001b[0m\u001b[0mcounts\u001b[0m\u001b[0;34m.\u001b[0m\u001b[0mmean\u001b[0m\u001b[0;34m(\u001b[0m\u001b[0;34m)\u001b[0m \u001b[0;32mfor\u001b[0m \u001b[0mcounts\u001b[0m \u001b[0;32min\u001b[0m \u001b[0mdata\u001b[0m\u001b[0;34m[\u001b[0m\u001b[0;34m\"counts\"\u001b[0m\u001b[0;34m]\u001b[0m\u001b[0;34m]\u001b[0m\u001b[0;34m\u001b[0m\u001b[0;34m\u001b[0m\u001b[0m\n",
            "\u001b[0;31mNameError\u001b[0m: name 'materials' is not defined"
          ]
        },
        {
          "output_type": "display_data",
          "data": {
            "text/plain": [
              "<Figure size 1000x600 with 0 Axes>"
            ]
          },
          "metadata": {}
        }
      ]
    },
    {
      "cell_type": "code",
      "source": [],
      "metadata": {
        "id": "4iSoyk8ldcEK"
      },
      "execution_count": null,
      "outputs": []
    }
  ]
}